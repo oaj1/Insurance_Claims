{
 "cells": [
  {
   "cell_type": "code",
   "execution_count": null,
   "id": "8e38485b",
   "metadata": {},
   "outputs": [],
   "source": [
    "#lets first read in the data from the cleaned csv file\n",
    "import pandas as pd\n",
    "\n",
    "df = pd.read_csv('insurance_claims_cleaned.csv')\n"
   ]
  },
  {
   "cell_type": "code",
   "execution_count": null,
   "id": "96a8e37c",
   "metadata": {},
   "outputs": [
    {
     "data": {
      "text/plain": [
       "Index(['months_as_customer', 'age', 'policy_number', 'policy_bind_date',\n",
       "       'policy_state', 'policy_csl', 'policy_deductable',\n",
       "       'policy_annual_premium', 'umbrella_limit', 'insured_zip', 'insured_sex',\n",
       "       'insured_education_level', 'insured_occupation', 'insured_hobbies',\n",
       "       'insured_relationship', 'capital-gains', 'capital-loss',\n",
       "       'incident_date', 'incident_type', 'collision_type', 'incident_severity',\n",
       "       'authorities_contacted', 'incident_state', 'incident_city',\n",
       "       'incident_location', 'incident_hour_of_the_day',\n",
       "       'number_of_vehicles_involved', 'property_damage', 'bodily_injuries',\n",
       "       'witnesses', 'police_report_available', 'total_claim_amount',\n",
       "       'injury_claim', 'property_claim', 'vehicle_claim', 'auto_make',\n",
       "       'auto_model', 'auto_year', 'fraud_reported'],\n",
       "      dtype='object')"
      ]
     },
     "execution_count": 3,
     "metadata": {},
     "output_type": "execute_result"
    }
   ],
   "source": [
    "#Okay, now we can start exploring the data, in particular, the demographic and financial columns.\n",
    "\n",
    "#lets first look at the columns we have to work with\n",
    "df.columns\n",
    "\n"
   ]
  },
  {
   "cell_type": "markdown",
   "id": "dd139f0c",
   "metadata": {},
   "source": [
    "Looking at the columns, the financial columns are:\n",
    "\n",
    "\n",
    "policy_annual_premium, policy_deductible, capital-gains, capital-loss, and umbrella_limit"
   ]
  },
  {
   "cell_type": "markdown",
   "id": "bdc8c671",
   "metadata": {},
   "source": [
    "We will first take a look at policy annual premium.\n",
    "\n",
    "\n",
    "\n",
    "A policy annual premium is the total amount of money you pay an insurance company for coverage over a one-year period.\n",
    "\n",
    "“Policy” = your insurance contract.\n",
    "\n",
    "“Premium” = the cost you pay for that contract.\n",
    "\n",
    "“Annual” = the full amount for a 12-month period."
   ]
  },
  {
   "cell_type": "code",
   "execution_count": 6,
   "id": "24deaddd",
   "metadata": {},
   "outputs": [
    {
     "data": {
      "text/html": [
       "<div>\n",
       "<style scoped>\n",
       "    .dataframe tbody tr th:only-of-type {\n",
       "        vertical-align: middle;\n",
       "    }\n",
       "\n",
       "    .dataframe tbody tr th {\n",
       "        vertical-align: top;\n",
       "    }\n",
       "\n",
       "    .dataframe thead th {\n",
       "        text-align: right;\n",
       "    }\n",
       "</style>\n",
       "<table border=\"1\" class=\"dataframe\">\n",
       "  <thead>\n",
       "    <tr style=\"text-align: right;\">\n",
       "      <th></th>\n",
       "      <th>count</th>\n",
       "      <th>mean</th>\n",
       "      <th>std</th>\n",
       "      <th>min</th>\n",
       "      <th>25%</th>\n",
       "      <th>50%</th>\n",
       "      <th>75%</th>\n",
       "      <th>max</th>\n",
       "    </tr>\n",
       "    <tr>\n",
       "      <th>fraud_reported</th>\n",
       "      <th></th>\n",
       "      <th></th>\n",
       "      <th></th>\n",
       "      <th></th>\n",
       "      <th></th>\n",
       "      <th></th>\n",
       "      <th></th>\n",
       "      <th></th>\n",
       "    </tr>\n",
       "  </thead>\n",
       "  <tbody>\n",
       "    <tr>\n",
       "      <th>N</th>\n",
       "      <td>753.0</td>\n",
       "      <td>1258.430000</td>\n",
       "      <td>241.247210</td>\n",
       "      <td>433.33</td>\n",
       "      <td>1097.640</td>\n",
       "      <td>1253.12</td>\n",
       "      <td>1422.56</td>\n",
       "      <td>2047.59</td>\n",
       "    </tr>\n",
       "    <tr>\n",
       "      <th>Y</th>\n",
       "      <td>247.0</td>\n",
       "      <td>1250.236275</td>\n",
       "      <td>253.263651</td>\n",
       "      <td>484.67</td>\n",
       "      <td>1062.615</td>\n",
       "      <td>1269.64</td>\n",
       "      <td>1396.33</td>\n",
       "      <td>1935.85</td>\n",
       "    </tr>\n",
       "  </tbody>\n",
       "</table>\n",
       "</div>"
      ],
      "text/plain": [
       "                count         mean         std     min       25%      50%  \\\n",
       "fraud_reported                                                              \n",
       "N               753.0  1258.430000  241.247210  433.33  1097.640  1253.12   \n",
       "Y               247.0  1250.236275  253.263651  484.67  1062.615  1269.64   \n",
       "\n",
       "                    75%      max  \n",
       "fraud_reported                    \n",
       "N               1422.56  2047.59  \n",
       "Y               1396.33  1935.85  "
      ]
     },
     "execution_count": 6,
     "metadata": {},
     "output_type": "execute_result"
    }
   ],
   "source": [
    "#Lets first start taking a look at a few of the financial columns, we can start with policy_annual_premium\n",
    "\n",
    "\n",
    "df.groupby('fraud_reported')['policy_annual_premium'].describe()"
   ]
  },
  {
   "cell_type": "markdown",
   "id": "99f6502c",
   "metadata": {},
   "source": [
    "Counts: 753 non-fraud (N) vs 247 fraud (Y) — fraud ~25% of cases.\n",
    "\n",
    "Central tendency: means and medians are nearly identical (mean N 1258.4 vs Y 1250.2; median N 1253.1 vs Y 1269.6). No large shift.\n",
    "\n",
    "Spread/outliers: std and IQR are similar; fraud has slightly higher std but slightly lower 75th and max.\n",
    "\n",
    "Practical takeaway: policy_annual_premium alone shows little raw separation between fraud/non-fraud — unlikely to be a strong standalone predictor."
   ]
  },
  {
   "cell_type": "code",
   "execution_count": 15,
   "id": "f5b1ee1d",
   "metadata": {},
   "outputs": [
    {
     "data": {
      "text/plain": [
       "<Figure size 1200x600 with 0 Axes>"
      ]
     },
     "metadata": {},
     "output_type": "display_data"
    },
    {
     "data": {
      "image/png": "[encoded data removed]",
      "text/plain": [
       "<Figure size 640x480 with 1 Axes>"
      ]
     },
     "metadata": {},
     "output_type": "display_data"
    }
   ],
   "source": [
    "import matplotlib.pyplot as plt\n",
    "\n",
    "plt.figure(figsize=(12,6))\n",
    "ax = df.boxplot(column='policy_annual_premium', by='fraud_reported', grid=False, showfliers=False,\n",
    "                color=dict(boxes='blue', whiskers='black', medians='red', caps='black'))\n",
    "plt.title('Policy Annual Premium by Fraud Reported')\n",
    "plt.suptitle('')\n",
    "plt.xlabel('Fraud Reported')\n",
    "plt.ylabel('Policy Annual Premium')\n",
    "\n",
    "# allow full range (a small buffer so top whisker is visible)\n",
    "plt.ylim(0, df['policy_annual_premium'].max() * 1.02)\n",
    "plt.show()"
   ]
  },
  {
   "cell_type": "code",
   "execution_count": 8,
   "id": "b4678f9a",
   "metadata": {},
   "outputs": [
    {
     "data": {
      "text/html": [
       "<div>\n",
       "<style scoped>\n",
       "    .dataframe tbody tr th:only-of-type {\n",
       "        vertical-align: middle;\n",
       "    }\n",
       "\n",
       "    .dataframe tbody tr th {\n",
       "        vertical-align: top;\n",
       "    }\n",
       "\n",
       "    .dataframe thead th {\n",
       "        text-align: right;\n",
       "    }\n",
       "</style>\n",
       "<table border=\"1\" class=\"dataframe\">\n",
       "  <thead>\n",
       "    <tr style=\"text-align: right;\">\n",
       "      <th></th>\n",
       "      <th>count</th>\n",
       "      <th>mean</th>\n",
       "      <th>std</th>\n",
       "      <th>min</th>\n",
       "      <th>25%</th>\n",
       "      <th>50%</th>\n",
       "      <th>75%</th>\n",
       "      <th>max</th>\n",
       "    </tr>\n",
       "    <tr>\n",
       "      <th>fraud_reported</th>\n",
       "      <th></th>\n",
       "      <th></th>\n",
       "      <th></th>\n",
       "      <th></th>\n",
       "      <th></th>\n",
       "      <th></th>\n",
       "      <th></th>\n",
       "      <th></th>\n",
       "    </tr>\n",
       "  </thead>\n",
       "  <tbody>\n",
       "    <tr>\n",
       "      <th>N</th>\n",
       "      <td>753.0</td>\n",
       "      <td>1130.810093</td>\n",
       "      <td>606.771634</td>\n",
       "      <td>500.0</td>\n",
       "      <td>500.0</td>\n",
       "      <td>1000.0</td>\n",
       "      <td>2000.0</td>\n",
       "      <td>2000.0</td>\n",
       "    </tr>\n",
       "    <tr>\n",
       "      <th>Y</th>\n",
       "      <td>247.0</td>\n",
       "      <td>1151.821862</td>\n",
       "      <td>628.123674</td>\n",
       "      <td>500.0</td>\n",
       "      <td>500.0</td>\n",
       "      <td>1000.0</td>\n",
       "      <td>2000.0</td>\n",
       "      <td>2000.0</td>\n",
       "    </tr>\n",
       "  </tbody>\n",
       "</table>\n",
       "</div>"
      ],
      "text/plain": [
       "                count         mean         std    min    25%     50%     75%  \\\n",
       "fraud_reported                                                                 \n",
       "N               753.0  1130.810093  606.771634  500.0  500.0  1000.0  2000.0   \n",
       "Y               247.0  1151.821862  628.123674  500.0  500.0  1000.0  2000.0   \n",
       "\n",
       "                   max  \n",
       "fraud_reported          \n",
       "N               2000.0  \n",
       "Y               2000.0  "
      ]
     },
     "execution_count": 8,
     "metadata": {},
     "output_type": "execute_result"
    }
   ],
   "source": [
    "#Oky, now lets do the same thing, but this time we will take a look at fraud reported by policy deductible\n",
    "\n",
    "df.groupby('fraud_reported')['policy_deductable'].describe()"
   ]
  },
  {
   "cell_type": "markdown",
   "id": "932842ab",
   "metadata": {},
   "source": [
    "At least in this dataset, deductible amount doesn’t seem to strongly distinguish fraud from non-fraud.\n",
    "\n",
    "Both groups cluster around the same key values ($500, $1,000, $2,000).\n",
    "\n",
    "The small difference in means isn’t meaningful because the standard deviations are huge (~600+).\n",
    "\n",
    "So this variable by itself probably isn’t a strong fraud predictor.\n",
    "But → it could still matter in combination with other features (e.g., deductible + claim amount, deductible + insured occupation)."
   ]
  }
 ],
 "metadata": {
  "kernelspec": {
   "display_name": "base",
   "language": "python",
   "name": "python3"
  },
  "language_info": {
   "codemirror_mode": {
    "name": "ipython",
    "version": 3
   },
   "file_extension": ".py",
   "mimetype": "text/x-python",
   "name": "python",
   "nbconvert_exporter": "python",
   "pygments_lexer": "ipython3",
   "version": "3.11.7"
  }
 },
 "nbformat": 4,
 "nbformat_minor": 5
}
