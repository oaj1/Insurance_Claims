{
 "cells": [
  {
   "cell_type": "code",
   "execution_count": 29,
   "id": "8e38485b",
   "metadata": {},
   "outputs": [],
   "source": [
    "#lets first read in the data from the cleaned csv file\n",
    "import pandas as pd\n",
    "\n",
    "df = pd.read_csv('insurance_claims_cleaned.csv')\n"
   ]
  },
  {
   "cell_type": "code",
   "execution_count": 30,
   "id": "96a8e37c",
   "metadata": {},
   "outputs": [
    {
     "data": {
      "text/plain": [
       "Index(['months_as_customer', 'age', 'policy_number', 'policy_bind_date',\n",
       "       'policy_state', 'policy_csl', 'policy_deductable',\n",
       "       'policy_annual_premium', 'umbrella_limit', 'insured_zip', 'insured_sex',\n",
       "       'insured_education_level', 'insured_occupation', 'insured_hobbies',\n",
       "       'insured_relationship', 'capital-gains', 'capital-loss',\n",
       "       'incident_date', 'incident_type', 'collision_type', 'incident_severity',\n",
       "       'authorities_contacted', 'incident_state', 'incident_city',\n",
       "       'incident_location', 'incident_hour_of_the_day',\n",
       "       'number_of_vehicles_involved', 'property_damage', 'bodily_injuries',\n",
       "       'witnesses', 'police_report_available', 'total_claim_amount',\n",
       "       'injury_claim', 'property_claim', 'vehicle_claim', 'auto_make',\n",
       "       'auto_model', 'auto_year', 'fraud_reported'],\n",
       "      dtype='object')"
      ]
     },
     "execution_count": 30,
     "metadata": {},
     "output_type": "execute_result"
    }
   ],
   "source": [
    "#Okay, now we can start exploring the data, in particular, the demographic and financial columns.\n",
    "\n",
    "#lets first look at the columns we have to work with\n",
    "df.columns\n",
    "\n"
   ]
  },
  {
   "cell_type": "markdown",
   "id": "dd139f0c",
   "metadata": {},
   "source": [
    "# Financial Columns Overview\n",
    "\n",
    "The dataset includes several important financial columns related to insurance policies:\n",
    "\n",
    "---\n",
    "\n",
    "## Policy Annual Premium  \n",
    "A **policy annual premium** is the total amount of money you pay an insurance company for coverage over a one-year period.  \n",
    "\n",
    "- **Policy** → your insurance contract.  \n",
    "- **Premium** → the cost you pay for that contract.  \n",
    "- **Annual** → the full amount for a 12-month period.  \n",
    "\n",
    "This value is typically paid either all at once or split into monthly installments.\n",
    "\n",
    "---\n",
    "\n",
    "## Policy Deductible  \n",
    "A **policy deductible** is the amount you must pay out-of-pocket before your insurance coverage starts to pay for a claim.  \n",
    "\n",
    "- Higher deductibles usually mean lower premiums.  \n",
    "- Lower deductibles usually mean higher premiums.  \n",
    "\n",
    "This column reflects the dollar value that the policyholder must cover before insurance kicks in.\n",
    "\n",
    "---\n",
    "\n",
    "## Capital Gains  \n",
    "**Capital gains** represent the profit made from selling an asset (like stocks, property, or investments) at a higher price than it was purchased.  \n",
    "\n",
    "- Example: If you bought stock for $1,000 and sold it for $1,500, the $500 is your capital gain.  \n",
    "- In an insurance dataset, this may reflect declared or reported gains by the policyholder.  \n",
    "\n",
    "---\n",
    "\n",
    "## Capital Loss  \n",
    "**Capital loss** is the opposite of a gain — it occurs when an asset is sold for less than its purchase price.  \n",
    "\n",
    "- Example: If you bought stock for $1,000 and sold it for $800, the $200 loss is your capital loss.  \n",
    "- Like gains, this can influence overall financial risk assessment for underwriting.  \n",
    "\n",
    "---\n",
    "\n",
    "## Umbrella Limit  \n",
    "An **umbrella limit** is the maximum amount an umbrella insurance policy will pay out.  \n",
    "\n",
    "- Umbrella policies provide extra liability protection beyond the limits of standard insurance (e.g., auto or home).  \n",
    "- The umbrella limit defines the highest amount the insurer will cover for claims across multiple policies.  \n",
    "\n",
    "This column is particularly important for understanding how much additional coverage a policyholder has.\n"
   ]
  },
  {
   "cell_type": "code",
   "execution_count": 31,
   "id": "24deaddd",
   "metadata": {},
   "outputs": [
    {
     "data": {
      "text/html": [
       "<div>\n",
       "<style scoped>\n",
       "    .dataframe tbody tr th:only-of-type {\n",
       "        vertical-align: middle;\n",
       "    }\n",
       "\n",
       "    .dataframe tbody tr th {\n",
       "        vertical-align: top;\n",
       "    }\n",
       "\n",
       "    .dataframe thead th {\n",
       "        text-align: right;\n",
       "    }\n",
       "</style>\n",
       "<table border=\"1\" class=\"dataframe\">\n",
       "  <thead>\n",
       "    <tr style=\"text-align: right;\">\n",
       "      <th></th>\n",
       "      <th>count</th>\n",
       "      <th>mean</th>\n",
       "      <th>std</th>\n",
       "      <th>min</th>\n",
       "      <th>25%</th>\n",
       "      <th>50%</th>\n",
       "      <th>75%</th>\n",
       "      <th>max</th>\n",
       "    </tr>\n",
       "    <tr>\n",
       "      <th>fraud_reported</th>\n",
       "      <th></th>\n",
       "      <th></th>\n",
       "      <th></th>\n",
       "      <th></th>\n",
       "      <th></th>\n",
       "      <th></th>\n",
       "      <th></th>\n",
       "      <th></th>\n",
       "    </tr>\n",
       "  </thead>\n",
       "  <tbody>\n",
       "    <tr>\n",
       "      <th>N</th>\n",
       "      <td>753.0</td>\n",
       "      <td>1258.430000</td>\n",
       "      <td>241.247210</td>\n",
       "      <td>433.33</td>\n",
       "      <td>1097.640</td>\n",
       "      <td>1253.12</td>\n",
       "      <td>1422.56</td>\n",
       "      <td>2047.59</td>\n",
       "    </tr>\n",
       "    <tr>\n",
       "      <th>Y</th>\n",
       "      <td>247.0</td>\n",
       "      <td>1250.236275</td>\n",
       "      <td>253.263651</td>\n",
       "      <td>484.67</td>\n",
       "      <td>1062.615</td>\n",
       "      <td>1269.64</td>\n",
       "      <td>1396.33</td>\n",
       "      <td>1935.85</td>\n",
       "    </tr>\n",
       "  </tbody>\n",
       "</table>\n",
       "</div>"
      ],
      "text/plain": [
       "                count         mean         std     min       25%      50%  \\\n",
       "fraud_reported                                                              \n",
       "N               753.0  1258.430000  241.247210  433.33  1097.640  1253.12   \n",
       "Y               247.0  1250.236275  253.263651  484.67  1062.615  1269.64   \n",
       "\n",
       "                    75%      max  \n",
       "fraud_reported                    \n",
       "N               1422.56  2047.59  \n",
       "Y               1396.33  1935.85  "
      ]
     },
     "execution_count": 31,
     "metadata": {},
     "output_type": "execute_result"
    }
   ],
   "source": [
    "#Lets first start taking a look at a few of the financial columns, we can start with policy_annual_premium\n",
    "df.groupby('fraud_reported')['policy_annual_premium'].describe()"
   ]
  },
  {
   "cell_type": "code",
   "execution_count": 36,
   "id": "f5b1ee1d",
   "metadata": {},
   "outputs": [
    {
     "data": {
      "text/plain": [
       "<Figure size 1200x600 with 0 Axes>"
      ]
     },
     "metadata": {},
     "output_type": "display_data"
    },
    {
     "data": {
      "image/png": "[encoded data removed]",
      "text/plain": [
       "<Figure size 640x480 with 1 Axes>"
      ]
     },
     "metadata": {},
     "output_type": "display_data"
    }
   ],
   "source": [
    "import matplotlib.pyplot as plt\n",
    "\n",
    "plt.figure(figsize=(12,6))\n",
    "ax = df.boxplot(column='policy_annual_premium', by='fraud_reported', grid=False, showfliers=False,\n",
    "                color=dict(boxes='blue', whiskers='black', medians='red', caps='black'))\n",
    "plt.title('Policy Annual Premium by Fraud Reported')\n",
    "plt.suptitle('')\n",
    "#plt.xlabel('Fraud Reported')\n",
    "#plt.ylabel('Policy Annual Premium')\n",
    "\n",
    "# allow full range (a small buffer so top whisker is visible)\n",
    "plt.ylim(0, df['policy_annual_premium'].max() * 1.02)\n",
    "plt.show()"
   ]
  },
  {
   "cell_type": "markdown",
   "id": "ffb23e0c",
   "metadata": {},
   "source": [
    "\"\"\"\n",
    "# Policy Annual Premium — Fraud vs. Non-Fraud Analysis\n",
    "\n",
    "## Counts\n",
    "- **Non-Fraud (N):** 753 cases  \n",
    "- **Fraud (Y):** 247 cases  \n",
    "- Fraud rate ≈ **25%** of total cases.\n",
    "\n",
    "---\n",
    "\n",
    "## Central Tendency\n",
    "- **Mean (N):** 1258.4  \n",
    "- **Mean (Y):** 1250.2  \n",
    "- **Median (N):** 1253.1  \n",
    "- **Median (Y):** 1269.6  \n",
    "\n",
    "➡️ Means and medians are nearly identical. No large shift in central tendency.\n",
    "\n",
    "---\n",
    "\n",
    "## Spread / Outliers\n",
    "- Standard deviation (fraud) is slightly higher.  \n",
    "- Fraud cases have a slightly lower 75th percentile and max value compared to non-fraud.  \n",
    "- Interquartile ranges are similar.\n",
    "\n",
    "---\n",
    "\n",
    "## Practical Takeaway\n",
    "Policy annual premium **alone** shows little raw separation between fraud and non-fraud cases.  \n",
    "It is **unlikely to be a strong standalone predictor**, though it may contribute value when combined with other features.\n",
    "\"\"\"\n"
   ]
  },
  {
   "cell_type": "code",
   "execution_count": null,
   "id": "b4678f9a",
   "metadata": {},
   "outputs": [
    {
     "data": {
      "text/html": [
       "<div>\n",
       "<style scoped>\n",
       "    .dataframe tbody tr th:only-of-type {\n",
       "        vertical-align: middle;\n",
       "    }\n",
       "\n",
       "    .dataframe tbody tr th {\n",
       "        vertical-align: top;\n",
       "    }\n",
       "\n",
       "    .dataframe thead th {\n",
       "        text-align: right;\n",
       "    }\n",
       "</style>\n",
       "<table border=\"1\" class=\"dataframe\">\n",
       "  <thead>\n",
       "    <tr style=\"text-align: right;\">\n",
       "      <th></th>\n",
       "      <th>count</th>\n",
       "      <th>mean</th>\n",
       "      <th>std</th>\n",
       "      <th>min</th>\n",
       "      <th>25%</th>\n",
       "      <th>50%</th>\n",
       "      <th>75%</th>\n",
       "      <th>max</th>\n",
       "    </tr>\n",
       "    <tr>\n",
       "      <th>fraud_reported</th>\n",
       "      <th></th>\n",
       "      <th></th>\n",
       "      <th></th>\n",
       "      <th></th>\n",
       "      <th></th>\n",
       "      <th></th>\n",
       "      <th></th>\n",
       "      <th></th>\n",
       "    </tr>\n",
       "  </thead>\n",
       "  <tbody>\n",
       "    <tr>\n",
       "      <th>N</th>\n",
       "      <td>753.0</td>\n",
       "      <td>1130.810093</td>\n",
       "      <td>606.771634</td>\n",
       "      <td>500.0</td>\n",
       "      <td>500.0</td>\n",
       "      <td>1000.0</td>\n",
       "      <td>2000.0</td>\n",
       "      <td>2000.0</td>\n",
       "    </tr>\n",
       "    <tr>\n",
       "      <th>Y</th>\n",
       "      <td>247.0</td>\n",
       "      <td>1151.821862</td>\n",
       "      <td>628.123674</td>\n",
       "      <td>500.0</td>\n",
       "      <td>500.0</td>\n",
       "      <td>1000.0</td>\n",
       "      <td>2000.0</td>\n",
       "      <td>2000.0</td>\n",
       "    </tr>\n",
       "  </tbody>\n",
       "</table>\n",
       "</div>"
      ],
      "text/plain": [
       "                count         mean         std    min    25%     50%     75%  \\\n",
       "fraud_reported                                                                 \n",
       "N               753.0  1130.810093  606.771634  500.0  500.0  1000.0  2000.0   \n",
       "Y               247.0  1151.821862  628.123674  500.0  500.0  1000.0  2000.0   \n",
       "\n",
       "                   max  \n",
       "fraud_reported          \n",
       "N               2000.0  \n",
       "Y               2000.0  "
      ]
     },
     "execution_count": 8,
     "metadata": {},
     "output_type": "execute_result"
    }
   ],
   "source": [
    "#Oky, now lets do the same thing, but this time we will take a look at fraud reported by policy deductible\n",
    "\n",
    "df.groupby('fraud_reported')['policy_deductable'].describe()"
   ]
  },
  {
   "cell_type": "code",
   "execution_count": 37,
   "id": "288229d7",
   "metadata": {},
   "outputs": [
    {
     "data": {
      "text/plain": [
       "<Figure size 1200x600 with 0 Axes>"
      ]
     },
     "metadata": {},
     "output_type": "display_data"
    },
    {
     "data": {
      "image/png": "[encoded data removed]",
      "text/plain": [
       "<Figure size 640x480 with 1 Axes>"
      ]
     },
     "metadata": {},
     "output_type": "display_data"
    }
   ],
   "source": [
    "#Now lets visualize policy deductible by fraud reported\n",
    "plt.figure(figsize=(12,6))\n",
    "ax = df.boxplot(column='policy_deductable', by='fraud_reported', grid=False, showfliers=False,\n",
    "                color=dict(boxes='blue', whiskers='black', medians='red', caps='black'))\n",
    "plt.title('Policy Deductable by Fraud Reported')\n",
    "plt.suptitle('')\n",
    "#plt.xlabel('Fraud Reported')\n",
    "#plt.ylabel('Policy Deductable')\n",
    "plt.ylim(0, df['policy_deductable'].max() * 1.02)\n",
    "plt.show()"
   ]
  },
  {
   "cell_type": "markdown",
   "id": "d1783f78",
   "metadata": {},
   "source": [
    "\"\"\"\n",
    "# Policy Deductible — Fraud vs. Non-Fraud Analysis\n",
    "\n",
    "## Counts\n",
    "- **Non-Fraud (N):** 753 cases  \n",
    "- **Fraud (Y):** 247 cases  \n",
    "\n",
    "---\n",
    "\n",
    "## Central Tendency\n",
    "- **Mean (N):** 1130.8  \n",
    "- **Mean (Y):** 1151.8  \n",
    "- **Median (N):** 1000  \n",
    "- **Median (Y):** 1000  \n",
    "\n",
    "➡️ Means and medians are nearly identical.\n",
    "\n",
    "---\n",
    "\n",
    "## Spread / Outliers\n",
    "- **Std (N):** 606.8  \n",
    "- **Std (Y):** 628.1  \n",
    "- **Min/Max:** 500 to 2000 for both groups  \n",
    "- **IQR:** Very similar (25% = 500, 75% = 2000)\n",
    "\n",
    "---\n",
    "\n",
    "## Practical Takeaway\n",
    "Policy deductibles are **highly standardized** in this dataset (most values are fixed at 500, 1000, or 2000).  \n",
    "\n",
    "As a result, policy_deductible shows **little separation** between fraud and non-fraud cases.  \n",
    "It is unlikely to be a strong standalone predictor, though it may still contribute in combination with other variables.\n",
    "\"\"\"\n"
   ]
  },
  {
   "cell_type": "code",
   "execution_count": 38,
   "id": "198eb150",
   "metadata": {},
   "outputs": [
    {
     "data": {
      "text/html": [
       "<div>\n",
       "<style scoped>\n",
       "    .dataframe tbody tr th:only-of-type {\n",
       "        vertical-align: middle;\n",
       "    }\n",
       "\n",
       "    .dataframe tbody tr th {\n",
       "        vertical-align: top;\n",
       "    }\n",
       "\n",
       "    .dataframe thead th {\n",
       "        text-align: right;\n",
       "    }\n",
       "</style>\n",
       "<table border=\"1\" class=\"dataframe\">\n",
       "  <thead>\n",
       "    <tr style=\"text-align: right;\">\n",
       "      <th></th>\n",
       "      <th>count</th>\n",
       "      <th>mean</th>\n",
       "      <th>std</th>\n",
       "      <th>min</th>\n",
       "      <th>25%</th>\n",
       "      <th>50%</th>\n",
       "      <th>75%</th>\n",
       "      <th>max</th>\n",
       "    </tr>\n",
       "    <tr>\n",
       "      <th>fraud_reported</th>\n",
       "      <th></th>\n",
       "      <th></th>\n",
       "      <th></th>\n",
       "      <th></th>\n",
       "      <th></th>\n",
       "      <th></th>\n",
       "      <th></th>\n",
       "      <th></th>\n",
       "    </tr>\n",
       "  </thead>\n",
       "  <tbody>\n",
       "    <tr>\n",
       "      <th>N</th>\n",
       "      <td>753.0</td>\n",
       "      <td>25432.005312</td>\n",
       "      <td>27918.464555</td>\n",
       "      <td>0.0</td>\n",
       "      <td>0.0</td>\n",
       "      <td>0.0</td>\n",
       "      <td>51400.0</td>\n",
       "      <td>100500.0</td>\n",
       "    </tr>\n",
       "    <tr>\n",
       "      <th>Y</th>\n",
       "      <td>247.0</td>\n",
       "      <td>24193.522267</td>\n",
       "      <td>27766.252081</td>\n",
       "      <td>0.0</td>\n",
       "      <td>0.0</td>\n",
       "      <td>0.0</td>\n",
       "      <td>48850.0</td>\n",
       "      <td>91900.0</td>\n",
       "    </tr>\n",
       "  </tbody>\n",
       "</table>\n",
       "</div>"
      ],
      "text/plain": [
       "                count          mean           std  min  25%  50%      75%  \\\n",
       "fraud_reported                                                              \n",
       "N               753.0  25432.005312  27918.464555  0.0  0.0  0.0  51400.0   \n",
       "Y               247.0  24193.522267  27766.252081  0.0  0.0  0.0  48850.0   \n",
       "\n",
       "                     max  \n",
       "fraud_reported            \n",
       "N               100500.0  \n",
       "Y                91900.0  "
      ]
     },
     "execution_count": 38,
     "metadata": {},
     "output_type": "execute_result"
    }
   ],
   "source": [
    "#Now lets take a look at capital gains by fraud reported\n",
    "df.groupby('fraud_reported')['capital-gains'].describe()"
   ]
  },
  {
   "cell_type": "code",
   "execution_count": 42,
   "id": "1331bd55",
   "metadata": {},
   "outputs": [
    {
     "data": {
      "text/plain": [
       "<Figure size 1200x600 with 0 Axes>"
      ]
     },
     "metadata": {},
     "output_type": "display_data"
    },
    {
     "data": {
      "image/png": "[encoded data removed]",
      "text/plain": [
       "<Figure size 640x480 with 1 Axes>"
      ]
     },
     "metadata": {},
     "output_type": "display_data"
    }
   ],
   "source": [
    "#Now lets visualize this data\n",
    "plt.figure(figsize=(12,6))\n",
    "ax = df.boxplot (column='capital-gains', by = 'fraud_reported', grid=False, showfliers=False,\n",
    "                 color = dict(boxes='blue', whiskers= 'black', medians='red', caps='black'))\n",
    "plt.title('Capital Gains by Fraud Reported')\n",
    "plt.suptitle('')\n",
    "plt.show()"
   ]
  },
  {
   "cell_type": "markdown",
   "id": "3b532076",
   "metadata": {},
   "source": [
    "## Capital Gains by Fraud Reported\n",
    "\n",
    "We compared the distribution of capital gains for reported fraud (`Y`) vs. not reported (`N`).\n",
    "\n",
    "### Boxplot Visualization\n",
    "- The boxplot shows that both groups have highly skewed distributions with long whiskers.\n",
    "- Most observations fall near **0**, while a smaller portion show very high capital gains values (up to ~100,000).\n",
    "- Median values for both groups are **0**, indicating that capital gains are often absent.\n",
    "\n",
    "### Descriptive Statistics\n",
    "| Fraud Reported | Count | Mean     | Std Dev  | Min | 25% | 50% | 75%   | Max    |\n",
    "|----------------|-------|----------|----------|-----|-----|-----|-------|--------|\n",
    "| N (No)         | 753   | 25,432.0 | 27,918.5 | 0   | 0   | 0   | 51,400 | 100,500 |\n",
    "| Y (Yes)        | 247   | 24,193.5 | 27,766.3 | 0   | 0   | 0   | 48,850 | 91,900  |\n",
    "\n",
    "### Key Insights\n",
    "- **Central tendency:** Both groups have a median of **0**, meaning most customers had no capital gains.\n",
    "- **Spread:** Both show very wide distributions (standard deviation ~27K), suggesting outliers drive the averages.\n",
    "- **Means:** Very close between fraud and non-fraud groups (~25K vs. ~24K).\n",
    "- **Upper quartiles:** Slightly higher for non-fraud (`75% = 51,400`) vs. fraud (`75% = 48,850`).\n",
    "\n",
    "📌 **Interpretation:**  \n",
    "Capital gains do not appear to differ substantially between fraud-reported and non-fraud cases. The similarity across distributions suggests that **capital gains may not be a strong predictor of fraud** in this dataset.\n"
   ]
  }
 ],
 "metadata": {
  "kernelspec": {
   "display_name": "base",
   "language": "python",
   "name": "python3"
  },
  "language_info": {
   "codemirror_mode": {
    "name": "ipython",
    "version": 3
   },
   "file_extension": ".py",
   "mimetype": "text/x-python",
   "name": "python",
   "nbconvert_exporter": "python",
   "pygments_lexer": "ipython3",
   "version": "3.11.7"
  }
 },
 "nbformat": 4,
 "nbformat_minor": 5
}
