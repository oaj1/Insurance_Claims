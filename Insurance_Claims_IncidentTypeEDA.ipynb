{
 "cells": [
  {
   "cell_type": "code",
   "execution_count": 13,
   "id": "b60dc9f2",
   "metadata": {},
   "outputs": [],
   "source": [
    "import pandas as pd\n",
    "import matplotlib.pyplot as plt\n",
    "\n",
    "# Load the dataset\n",
    "df = pd. read_csv('insurance_claims_cleaned_fixed.csv')"
   ]
  },
  {
   "cell_type": "code",
   "execution_count": 14,
   "id": "2a65f23e",
   "metadata": {},
   "outputs": [
    {
     "data": {
      "text/plain": [
       "incident_type\n",
       "Multi-vehicle Collision     419\n",
       "Single Vehicle Collision    403\n",
       "Vehicle Theft                94\n",
       "Parked Car                   84\n",
       "Name: count, dtype: int64"
      ]
     },
     "execution_count": 14,
     "metadata": {},
     "output_type": "execute_result"
    }
   ],
   "source": [
    "#lets take a look at the incident_type column\n",
    "\n",
    "df['incident_type'].value_counts()"
   ]
  },
  {
   "cell_type": "code",
   "execution_count": null,
   "id": "41eea081",
   "metadata": {},
   "outputs": [
    {
     "data": {
      "text/plain": [
       "incident_type             fraud_reported\n",
       "Multi-vehicle Collision   No                0.727924\n",
       "                          Yes               0.272076\n",
       "Parked Car                No                0.904762\n",
       "                          Yes               0.095238\n",
       "Single Vehicle Collision  No                0.709677\n",
       "                          Yes               0.290323\n",
       "Vehicle Theft             No                0.914894\n",
       "                          Yes               0.085106\n",
       "Name: proportion, dtype: float64"
      ]
     },
     "execution_count": 21,
     "metadata": {},
     "output_type": "execute_result"
    }
   ],
   "source": [
    "#lets see how incident type affects fraud reported\n",
    "df.groupby('incident_type')['fraud_reported'].value_counts(normalize = True)\n",
    "\n"
   ]
  },
  {
   "cell_type": "markdown",
   "id": "c5538060",
   "metadata": {},
   "source": [
    "Multi-vehicle Collision: 27.2% fraud rate\n",
    "\n",
    "Single Vehicle Collision: 29.0% fraud rate\n",
    "\n",
    "\n",
    "Key insights:\n",
    "\n",
    "Collisions (especially single vehicle) have much higher fraud rates.\n",
    "Parked car and vehicle theft claims are much less likely to be fraudulent."
   ]
  },
  {
   "cell_type": "markdown",
   "id": "98313583",
   "metadata": {},
   "source": [
    "Explore incident_severity and collision_type for similar patterns.\n",
    "Visualize these rates (bar plot) for clearer comparison."
   ]
  }
 ],
 "metadata": {
  "kernelspec": {
   "display_name": "base",
   "language": "python",
   "name": "python3"
  },
  "language_info": {
   "codemirror_mode": {
    "name": "ipython",
    "version": 3
   },
   "file_extension": ".py",
   "mimetype": "text/x-python",
   "name": "python",
   "nbconvert_exporter": "python",
   "pygments_lexer": "ipython3",
   "version": "3.11.7"
  }
 },
 "nbformat": 4,
 "nbformat_minor": 5
}
